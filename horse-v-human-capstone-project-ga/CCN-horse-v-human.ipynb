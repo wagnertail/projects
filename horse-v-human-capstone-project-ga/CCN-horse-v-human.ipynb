{
 "cells": [
  {
   "cell_type": "code",
   "execution_count": 1,
   "metadata": {},
   "outputs": [],
   "source": [
    "from tensorflow import keras\n",
    "from keras.preprocessing.image import ImageDataGenerator # for data augmentation \n",
    "\n",
    "import matplotlib.pyplot as plt"
   ]
  },
  {
   "cell_type": "code",
   "execution_count": 2,
   "metadata": {},
   "outputs": [
    {
     "data": {
      "text/plain": [
       "'2.4.0'"
      ]
     },
     "execution_count": 2,
     "metadata": {},
     "output_type": "execute_result"
    }
   ],
   "source": [
    "keras.__version__"
   ]
  },
  {
   "cell_type": "code",
   "execution_count": 3,
   "metadata": {},
   "outputs": [],
   "source": [
    "# create paths to directories with images\n",
    "\n",
    "train_path = \"./horse-or-human\"\n",
    "val_path = \"./validation-horse-or-human\""
   ]
  },
  {
   "cell_type": "markdown",
   "metadata": {},
   "source": [
    "## Train set"
   ]
  },
  {
   "cell_type": "code",
   "execution_count": 4,
   "metadata": {},
   "outputs": [],
   "source": [
    "# rescale train set\n",
    "\n",
    "train_datagen = ImageDataGenerator(\n",
    "    rescale = 1/255,\n",
    ")"
   ]
  },
  {
   "cell_type": "code",
   "execution_count": 5,
   "metadata": {},
   "outputs": [
    {
     "name": "stdout",
     "output_type": "stream",
     "text": [
      "Found 1027 images belonging to 2 classes.\n"
     ]
    }
   ],
   "source": [
    "# specify train_data that will be fed into the NN\n",
    "\n",
    "train_data = train_datagen.flow_from_directory(\n",
    "    directory = train_path,\n",
    "    target_size = (300, 300), \n",
    "    batch_size = 128,\n",
    "    class_mode = \"binary\",\n",
    "    shuffle=True,\n",
    "    seed=42\n",
    ")"
   ]
  },
  {
   "cell_type": "code",
   "execution_count": 6,
   "metadata": {},
   "outputs": [
    {
     "data": {
      "text/plain": [
       "{'horses': 0, 'humans': 1}"
      ]
     },
     "execution_count": 6,
     "metadata": {},
     "output_type": "execute_result"
    }
   ],
   "source": [
    "# show the 2 classes\n",
    "\n",
    "train_data.class_indices"
   ]
  },
  {
   "cell_type": "markdown",
   "metadata": {},
   "source": [
    "## Test set"
   ]
  },
  {
   "cell_type": "code",
   "execution_count": 7,
   "metadata": {},
   "outputs": [
    {
     "name": "stdout",
     "output_type": "stream",
     "text": [
      "Found 256 images belonging to 2 classes.\n"
     ]
    }
   ],
   "source": [
    "# Rescale the test set\n",
    "\n",
    "valid_datagen = ImageDataGenerator(rescale = 1/255)\n",
    "\n",
    "valid_data = valid_datagen.flow_from_directory(\n",
    "    directory = val_path,\n",
    "    target_size = (300, 300),   \n",
    "    batch_size = 32,\n",
    "    class_mode = \"binary\"\n",
    ")"
   ]
  },
  {
   "cell_type": "markdown",
   "metadata": {},
   "source": [
    "## CNN"
   ]
  },
  {
   "cell_type": "code",
   "execution_count": 10,
   "metadata": {},
   "outputs": [],
   "source": [
    "cnn_model = keras.models.Sequential([\n",
    "    keras.layers.Conv2D(16, (3,3), activation=\"relu\", input_shape=(300,300,3)),\n",
    "    keras.layers.MaxPooling2D(2,2),\n",
    "    \n",
    "    keras.layers.Conv2D(16, (3,3), activation=\"relu\"),\n",
    "    keras.layers.MaxPooling2D(2,2),\n",
    "    \n",
    "    keras.layers.Conv2D(16, (3,3), activation=\"relu\"),\n",
    "    keras.layers.MaxPooling2D(2,2),\n",
    "    \n",
    "    keras.layers.Conv2D(16, (3,3), activation=\"relu\"),\n",
    "    keras.layers.MaxPooling2D(2,2),\n",
    "    \n",
    "    keras.layers.Conv2D(16, (3,3), activation=\"relu\"),\n",
    "    keras.layers.MaxPooling2D(2,2),\n",
    "    \n",
    "    # flatten the results\n",
    "    keras.layers.Flatten(),\n",
    "    # 512 neuron hidden layer\n",
    "    keras.layers.Dense(512,activation=\"relu\"),\n",
    "    # outputs either 0 for \"horses\" or 1 for \"humans\"\n",
    "    keras.layers.Dense(1,activation=\"sigmoid\")\n",
    "])"
   ]
  },
  {
   "cell_type": "code",
   "execution_count": 11,
   "metadata": {},
   "outputs": [
    {
     "name": "stdout",
     "output_type": "stream",
     "text": [
      "Model: \"sequential\"\n",
      "_________________________________________________________________\n",
      "Layer (type)                 Output Shape              Param #   \n",
      "=================================================================\n",
      "conv2d (Conv2D)              (None, 298, 298, 16)      448       \n",
      "_________________________________________________________________\n",
      "max_pooling2d (MaxPooling2D) (None, 149, 149, 16)      0         \n",
      "_________________________________________________________________\n",
      "conv2d_1 (Conv2D)            (None, 147, 147, 16)      2320      \n",
      "_________________________________________________________________\n",
      "max_pooling2d_1 (MaxPooling2 (None, 73, 73, 16)        0         \n",
      "_________________________________________________________________\n",
      "conv2d_2 (Conv2D)            (None, 71, 71, 16)        2320      \n",
      "_________________________________________________________________\n",
      "max_pooling2d_2 (MaxPooling2 (None, 35, 35, 16)        0         \n",
      "_________________________________________________________________\n",
      "conv2d_3 (Conv2D)            (None, 33, 33, 16)        2320      \n",
      "_________________________________________________________________\n",
      "max_pooling2d_3 (MaxPooling2 (None, 16, 16, 16)        0         \n",
      "_________________________________________________________________\n",
      "conv2d_4 (Conv2D)            (None, 14, 14, 16)        2320      \n",
      "_________________________________________________________________\n",
      "max_pooling2d_4 (MaxPooling2 (None, 7, 7, 16)          0         \n",
      "_________________________________________________________________\n",
      "flatten (Flatten)            (None, 784)               0         \n",
      "_________________________________________________________________\n",
      "dense (Dense)                (None, 512)               401920    \n",
      "_________________________________________________________________\n",
      "dense_1 (Dense)              (None, 1)                 513       \n",
      "=================================================================\n",
      "Total params: 412,161\n",
      "Trainable params: 412,161\n",
      "Non-trainable params: 0\n",
      "_________________________________________________________________\n"
     ]
    }
   ],
   "source": [
    "cnn_model.summary()"
   ]
  },
  {
   "cell_type": "code",
   "execution_count": 12,
   "metadata": {},
   "outputs": [],
   "source": [
    "from keras.optimizers import RMSprop \n",
    "from keras.callbacks import ModelCheckpoint"
   ]
  },
  {
   "cell_type": "markdown",
   "metadata": {},
   "source": [
    "cnn_model = keras.models.Sequential(\n",
    "    [\n",
    "        keras.layers.Conv2D(filters = 32, kernel_size = 3, input_shape = [150, 150, 3]),\n",
    "        keras.layers.MaxPooling2D(pool_size = (2,2)),\n",
    "        keras.layers.Conv2D(filters = 64, kernel_size = 3),\n",
    "        keras.layers.MaxPooling2D(pool_size = (2,2)),\n",
    "        keras.layers.Conv2D(filters = 128, kernel_size = 3),\n",
    "        keras.layers.MaxPooling2D(pool_size = (2,2)),\n",
    "        keras.layers.Conv2D(filters = 256, kernel_size = 3),\n",
    "        keras.layers.MaxPooling2D(pool_size = (2,2)),\n",
    "        \n",
    "        keras.layers.Dropout(0.5),\n",
    "        \n",
    "        # Neural Network Building\n",
    "        keras.layers.Flatten(),\n",
    "        keras.layers.Dense(units = 128, activation = 'relu'), # Input Layer\n",
    "        keras.layers.Dropout(0.1),\n",
    "        keras.layers.Dense(units = 256, activation = 'relu'), # Hidden Layer\n",
    "        keras.layers.Dropout(0.25),\n",
    "        keras.layers.Dense(units = 2, activation = 'sigmoid'), # Output Layer\n",
    "    ]\n",
    ")"
   ]
  },
  {
   "cell_type": "code",
   "execution_count": 13,
   "metadata": {},
   "outputs": [],
   "source": [
    "cnn_model.compile(loss=\"binary_crossentropy\", \n",
    "                  optimizer=RMSprop(lr=0.001), \n",
    "                  metrics=[\"accuracy\"])"
   ]
  },
  {
   "cell_type": "code",
   "execution_count": 14,
   "metadata": {},
   "outputs": [],
   "source": [
    "model_path = \"./horse-v-human_model\"\n",
    "checkpoint = ModelCheckpoint(model_path, monitor = \"val_accuracy\", verbose = 1, save_best_only = True, mode = \"max\")\n",
    "callbacks_list = [checkpoint]"
   ]
  },
  {
   "cell_type": "code",
   "execution_count": 15,
   "metadata": {},
   "outputs": [
    {
     "name": "stdout",
     "output_type": "stream",
     "text": [
      "Epoch 1/15\n",
      "8/8 [==============================] - 35s 4s/step - loss: 0.6779 - accuracy: 0.5506 - val_loss: 1.0651 - val_accuracy: 0.5000\n",
      "Epoch 2/15\n",
      "8/8 [==============================] - 32s 4s/step - loss: 0.6347 - accuracy: 0.6752 - val_loss: 0.5093 - val_accuracy: 0.8242\n",
      "Epoch 3/15\n",
      "8/8 [==============================] - 32s 4s/step - loss: 0.4719 - accuracy: 0.8042 - val_loss: 0.5620 - val_accuracy: 0.6953\n",
      "Epoch 4/15\n",
      "8/8 [==============================] - 32s 4s/step - loss: 0.3403 - accuracy: 0.8676 - val_loss: 0.7777 - val_accuracy: 0.8008\n",
      "Epoch 5/15\n",
      "8/8 [==============================] - 33s 4s/step - loss: 0.1785 - accuracy: 0.9321 - val_loss: 1.3846 - val_accuracy: 0.7578\n",
      "Epoch 6/15\n",
      "8/8 [==============================] - 35s 4s/step - loss: 0.2470 - accuracy: 0.9021 - val_loss: 2.4199 - val_accuracy: 0.6250\n",
      "Epoch 7/15\n",
      "8/8 [==============================] - 32s 4s/step - loss: 0.1634 - accuracy: 0.9499 - val_loss: 1.5536 - val_accuracy: 0.7695\n",
      "Epoch 8/15\n",
      "8/8 [==============================] - 33s 4s/step - loss: 0.0428 - accuracy: 0.9844 - val_loss: 1.7266 - val_accuracy: 0.7695\n",
      "Epoch 9/15\n",
      "8/8 [==============================] - 33s 4s/step - loss: 0.0694 - accuracy: 0.9744 - val_loss: 1.0929 - val_accuracy: 0.8359\n",
      "Epoch 10/15\n",
      "8/8 [==============================] - 33s 4s/step - loss: 0.3085 - accuracy: 0.9188 - val_loss: 1.1043 - val_accuracy: 0.7773\n",
      "Epoch 11/15\n",
      "8/8 [==============================] - 36s 4s/step - loss: 0.0398 - accuracy: 0.9941 - val_loss: 1.7805 - val_accuracy: 0.7852\n",
      "Epoch 12/15\n",
      "8/8 [==============================] - 33s 4s/step - loss: 0.0212 - accuracy: 0.9944 - val_loss: 1.7272 - val_accuracy: 0.7969\n",
      "Epoch 13/15\n",
      "8/8 [==============================] - 33s 4s/step - loss: 0.1040 - accuracy: 0.9600 - val_loss: 1.4314 - val_accuracy: 0.7812\n",
      "Epoch 14/15\n",
      "8/8 [==============================] - 32s 4s/step - loss: 0.0203 - accuracy: 0.9978 - val_loss: 1.9092 - val_accuracy: 0.8008\n",
      "Epoch 15/15\n",
      "8/8 [==============================] - 32s 4s/step - loss: 0.0865 - accuracy: 0.9689 - val_loss: 1.1952 - val_accuracy: 0.8203\n"
     ]
    }
   ],
   "source": [
    "history=cnn_model.fit(train_data, \n",
    "                      steps_per_epoch=8, \n",
    "                      epochs=15, \n",
    "                      verbose = 1, \n",
    "                      validation_data=valid_data, \n",
    "                      validation_steps=8)"
   ]
  },
  {
   "cell_type": "markdown",
   "metadata": {},
   "source": [
    "## Evaluation"
   ]
  },
  {
   "cell_type": "code",
   "execution_count": 16,
   "metadata": {},
   "outputs": [
    {
     "data": {
      "image/png": "[encoded data removed]",
      "text/plain": [
       "<Figure size 432x288 with 1 Axes>"
      ]
     },
     "metadata": {
      "needs_background": "light"
     },
     "output_type": "display_data"
    }
   ],
   "source": [
    "# summarise the accuracy\n",
    "\n",
    "plt.plot(history.history[\"accuracy\"])\n",
    "plt.plot(history.history[\"val_accuracy\"])\n",
    "\n",
    "plt.title(\"Model Accuracy\")\n",
    "plt.ylabel(\"Accuracy\")\n",
    "plt.xlabel(\"Epoch\")\n",
    "plt.legend([\"Train\", \"Valid\"], loc = \"upper left\")\n",
    "plt.show()"
   ]
  },
  {
   "cell_type": "code",
   "execution_count": 17,
   "metadata": {},
   "outputs": [
    {
     "data": {
      "image/png": "[encoded data removed]",
      "text/plain": [
       "<Figure size 432x288 with 1 Axes>"
      ]
     },
     "metadata": {
      "needs_background": "light"
     },
     "output_type": "display_data"
    }
   ],
   "source": [
    "# summarise the loss\n",
    "\n",
    "plt.plot(history.history['loss'])\n",
    "plt.plot(history.history['val_loss'])\n",
    "\n",
    "plt.title(\"Model Loss\")\n",
    "plt.ylabel(\"Loss\")\n",
    "plt.xlabel(\"Epoch\")\n",
    "plt.legend([\"Train\", \"Valid\"], loc = \"upper left\")\n",
    "plt.show()"
   ]
  },
  {
   "cell_type": "markdown",
   "metadata": {},
   "source": [
    "## Test images"
   ]
  },
  {
   "cell_type": "code",
   "execution_count": 40,
   "metadata": {},
   "outputs": [],
   "source": [
    "from keras.preprocessing import image\n",
    "import cv2\n",
    "import numpy as np"
   ]
  },
  {
   "cell_type": "code",
   "execution_count": 41,
   "metadata": {},
   "outputs": [],
   "source": [
    "model_path = \"./horse-v-human_model\""
   ]
  },
  {
   "cell_type": "code",
   "execution_count": 42,
   "metadata": {},
   "outputs": [],
   "source": [
    "trained_model = keras.models.load_model(model_path)"
   ]
  },
  {
   "cell_type": "code",
   "execution_count": 62,
   "metadata": {},
   "outputs": [],
   "source": [
    "# define paths for horse and test images\n",
    "\n",
    "horse = \"./misc/test-horse-image.png\"\n",
    "human = \"./misc/test-human-image.png\""
   ]
  },
  {
   "cell_type": "code",
   "execution_count": 63,
   "metadata": {},
   "outputs": [],
   "source": [
    "def pred_horse_human(model, horse_human):\n",
    "    test_image = image.load_img(horse_human, target_size = (300, 300))\n",
    "    test_image = image.img_to_array(test_image)/255\n",
    "    test_image = np.expand_dims(test_image, axis = 0)\n",
    "    \n",
    "    result = model.predict(test_image).round(3)\n",
    "    \n",
    "    pred = np.argmax(result)\n",
    "    print(result, \"-->\", pred)\n",
    "    \n",
    "    if pred == 0:\n",
    "        print(\"Predicted as a HORSE\")\n",
    "    else:\n",
    "        print(\"Predicted as a HUMAN\")"
   ]
  },
  {
   "cell_type": "code",
   "execution_count": 64,
   "metadata": {},
   "outputs": [
    {
     "name": "stdout",
     "output_type": "stream",
     "text": [
      "[[0.519]] --> 0\n",
      "Predicted as a HORSE\n"
     ]
    }
   ],
   "source": [
    "pred_horse_human(trained_model, horse)"
   ]
  },
  {
   "cell_type": "code",
   "execution_count": 66,
   "metadata": {},
   "outputs": [
    {
     "name": "stdout",
     "output_type": "stream",
     "text": [
      "[[0.171]] --> 0\n",
      "Predicted as a HORSE\n"
     ]
    }
   ],
   "source": [
    "pred_horse_human(trained_model, human)"
   ]
  }
 ],
 "metadata": {
  "kernelspec": {
   "display_name": "Python 3",
   "language": "python",
   "name": "python3"
  },
  "language_info": {
   "codemirror_mode": {
    "name": "ipython",
    "version": 3
   },
   "file_extension": ".py",
   "mimetype": "text/x-python",
   "name": "python",
   "nbconvert_exporter": "python",
   "pygments_lexer": "ipython3",
   "version": "3.7.6"
  }
 },
 "nbformat": 4,
 "nbformat_minor": 4
}
