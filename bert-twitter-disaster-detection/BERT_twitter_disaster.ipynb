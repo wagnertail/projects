{
  "nbformat": 4,
  "nbformat_minor": 0,
  "metadata": {
    "colab": {
      "name": "BERT-twitter-disaster.ipynb",
      "provenance": [],
      "collapsed_sections": []
    },
    "kernelspec": {
      "name": "python3",
      "display_name": "Python 3"
    },
    "accelerator": "GPU"
  },
  "cells": [
    {
      "cell_type": "markdown",
      "metadata": {
        "id": "JNY-v2QnM6Ja"
      },
      "source": [
        "<h2> BERT for analysing tweets: Real or Not? Disaster Tweets</h2>"
      ]
    },
    {
      "cell_type": "code",
      "metadata": {
        "id": "lh_dOIlhPWtL",
        "colab": {
          "base_uri": "https://localhost:8080/"
        },
        "outputId": "815f40c9-129f-4b39-d5fb-67ec09df1aa3"
      },
      "source": [
        "import pandas as pd\n",
        "import matplotlib.pyplot as plt\n",
        "import seaborn as sns\n",
        "import numpy as np\n",
        "\n",
        "import nltk\n",
        "nltk.download()\n",
        "#from nltk.corpus import stopwords\n",
        "#from nltk.util import ngrams\n",
        "\n",
        "from sklearn.feature_extraction.text import CountVectorizer\n",
        "from collections import defaultdict\n",
        "from collections import  Counter\n",
        "\n",
        "plt.style.use(\"ggplot\")\n",
        "stop=set(stopwords.words(\"english\"))\n",
        "\n",
        "import re\n",
        "from nltk.tokenize import word_tokenize\n",
        "import gensim\n",
        "import string\n",
        "\n",
        "from keras.preprocessing.text import Tokenizer\n",
        "from keras.preprocessing.sequence import pad_sequences\n",
        "from tqdm import tqdm\n",
        "from keras.models import Sequential\n",
        "from keras.layers import Embedding,LSTM,Dense,SpatialDropout1D\n",
        "from keras.initializers import Constant\n",
        "from sklearn.model_selection import train_test_split\n",
        "from keras.optimizers import Adam"
      ],
      "execution_count": null,
      "outputs": [
        {
          "output_type": "stream",
          "text": [
            "NLTK Downloader\n",
            "---------------------------------------------------------------------------\n",
            "    d) Download   l) List    u) Update   c) Config   h) Help   q) Quit\n",
            "---------------------------------------------------------------------------\n",
            "Downloader> d\n",
            "\n",
            "Download which package (l=list; x=cancel)?\n",
            "  Identifier> all\n",
            "    Downloading collection 'all'\n",
            "       | \n",
            "       | Downloading package abc to /root/nltk_data...\n",
            "       |   Unzipping corpora/abc.zip.\n",
            "       | Downloading package alpino to /root/nltk_data...\n",
            "       |   Unzipping corpora/alpino.zip.\n",
            "       | Downloading package biocreative_ppi to /root/nltk_data...\n",
            "       |   Unzipping corpora/biocreative_ppi.zip.\n",
            "       | Downloading package brown to /root/nltk_data...\n",
            "       |   Unzipping corpora/brown.zip.\n",
            "       | Downloading package brown_tei to /root/nltk_data...\n",
            "       |   Unzipping corpora/brown_tei.zip.\n",
            "       | Downloading package cess_cat to /root/nltk_data...\n",
            "       |   Unzipping corpora/cess_cat.zip.\n",
            "       | Downloading package cess_esp to /root/nltk_data...\n",
            "       |   Unzipping corpora/cess_esp.zip.\n",
            "       | Downloading package chat80 to /root/nltk_data...\n",
            "       |   Unzipping corpora/chat80.zip.\n",
            "       | Downloading package city_database to /root/nltk_data...\n",
            "       |   Unzipping corpora/city_database.zip.\n",
            "       | Downloading package cmudict to /root/nltk_data...\n",
            "       |   Unzipping corpora/cmudict.zip.\n",
            "       | Downloading package comparative_sentences to\n",
            "       |     /root/nltk_data...\n",
            "       |   Unzipping corpora/comparative_sentences.zip.\n",
            "       | Downloading package comtrans to /root/nltk_data...\n",
            "       | Downloading package conll2000 to /root/nltk_data...\n",
            "       |   Unzipping corpora/conll2000.zip.\n",
            "       | Downloading package conll2002 to /root/nltk_data...\n",
            "       |   Unzipping corpora/conll2002.zip.\n",
            "       | Downloading package conll2007 to /root/nltk_data...\n",
            "       | Downloading package crubadan to /root/nltk_data...\n",
            "       |   Unzipping corpora/crubadan.zip.\n",
            "       | Downloading package dependency_treebank to /root/nltk_data...\n",
            "       |   Unzipping corpora/dependency_treebank.zip.\n",
            "       | Downloading package dolch to /root/nltk_data...\n",
            "       |   Unzipping corpora/dolch.zip.\n",
            "       | Downloading package europarl_raw to /root/nltk_data...\n",
            "       |   Unzipping corpora/europarl_raw.zip.\n",
            "       | Downloading package floresta to /root/nltk_data...\n",
            "       |   Unzipping corpora/floresta.zip.\n",
            "       | Downloading package framenet_v15 to /root/nltk_data...\n",
            "       |   Unzipping corpora/framenet_v15.zip.\n",
            "       | Downloading package framenet_v17 to /root/nltk_data...\n",
            "       |   Unzipping corpora/framenet_v17.zip.\n",
            "       | Downloading package gazetteers to /root/nltk_data...\n",
            "       |   Unzipping corpora/gazetteers.zip.\n",
            "       | Downloading package genesis to /root/nltk_data...\n",
            "       |   Unzipping corpora/genesis.zip.\n",
            "       | Downloading package gutenberg to /root/nltk_data...\n",
            "       |   Unzipping corpora/gutenberg.zip.\n",
            "       | Downloading package ieer to /root/nltk_data...\n",
            "       |   Unzipping corpora/ieer.zip.\n",
            "       | Downloading package inaugural to /root/nltk_data...\n",
            "       |   Unzipping corpora/inaugural.zip.\n",
            "       | Downloading package indian to /root/nltk_data...\n",
            "       |   Unzipping corpora/indian.zip.\n",
            "       | Downloading package jeita to /root/nltk_data...\n",
            "       | Downloading package kimmo to /root/nltk_data...\n",
            "       |   Unzipping corpora/kimmo.zip.\n",
            "       | Downloading package knbc to /root/nltk_data...\n",
            "       | Downloading package lin_thesaurus to /root/nltk_data...\n",
            "       |   Unzipping corpora/lin_thesaurus.zip.\n",
            "       | Downloading package mac_morpho to /root/nltk_data...\n",
            "       |   Unzipping corpora/mac_morpho.zip.\n",
            "       | Downloading package machado to /root/nltk_data...\n",
            "       | Downloading package masc_tagged to /root/nltk_data...\n",
            "       | Downloading package moses_sample to /root/nltk_data...\n",
            "       |   Unzipping models/moses_sample.zip.\n",
            "       | Downloading package movie_reviews to /root/nltk_data...\n",
            "       |   Unzipping corpora/movie_reviews.zip.\n",
            "       | Downloading package names to /root/nltk_data...\n",
            "       |   Unzipping corpora/names.zip.\n",
            "       | Downloading package nombank.1.0 to /root/nltk_data...\n",
            "       | Downloading package nps_chat to /root/nltk_data...\n",
            "       |   Unzipping corpora/nps_chat.zip.\n",
            "       | Downloading package omw to /root/nltk_data...\n",
            "       |   Unzipping corpora/omw.zip.\n",
            "       | Downloading package opinion_lexicon to /root/nltk_data...\n",
            "       |   Unzipping corpora/opinion_lexicon.zip.\n",
            "       | Downloading package paradigms to /root/nltk_data...\n",
            "       |   Unzipping corpora/paradigms.zip.\n",
            "       | Downloading package pil to /root/nltk_data...\n",
            "       |   Unzipping corpora/pil.zip.\n",
            "       | Downloading package pl196x to /root/nltk_data...\n",
            "       |   Unzipping corpora/pl196x.zip.\n",
            "       | Downloading package ppattach to /root/nltk_data...\n",
            "       |   Unzipping corpora/ppattach.zip.\n",
            "       | Downloading package problem_reports to /root/nltk_data...\n",
            "       |   Unzipping corpora/problem_reports.zip.\n",
            "       | Downloading package propbank to /root/nltk_data...\n",
            "       | Downloading package ptb to /root/nltk_data...\n",
            "       |   Unzipping corpora/ptb.zip.\n",
            "       | Downloading package product_reviews_1 to /root/nltk_data...\n",
            "       |   Unzipping corpora/product_reviews_1.zip.\n",
            "       | Downloading package product_reviews_2 to /root/nltk_data...\n",
            "       |   Unzipping corpora/product_reviews_2.zip.\n",
            "       | Downloading package pros_cons to /root/nltk_data...\n",
            "       |   Unzipping corpora/pros_cons.zip.\n",
            "       | Downloading package qc to /root/nltk_data...\n",
            "       |   Unzipping corpora/qc.zip.\n",
            "       | Downloading package reuters to /root/nltk_data...\n",
            "       | Downloading package rte to /root/nltk_data...\n",
            "       |   Unzipping corpora/rte.zip.\n",
            "       | Downloading package semcor to /root/nltk_data...\n",
            "       | Downloading package senseval to /root/nltk_data...\n",
            "       |   Unzipping corpora/senseval.zip.\n",
            "       | Downloading package sentiwordnet to /root/nltk_data...\n",
            "       |   Unzipping corpora/sentiwordnet.zip.\n",
            "       | Downloading package sentence_polarity to /root/nltk_data...\n",
            "       |   Unzipping corpora/sentence_polarity.zip.\n",
            "       | Downloading package shakespeare to /root/nltk_data...\n",
            "       |   Unzipping corpora/shakespeare.zip.\n",
            "       | Downloading package sinica_treebank to /root/nltk_data...\n",
            "       |   Unzipping corpora/sinica_treebank.zip.\n",
            "       | Downloading package smultron to /root/nltk_data...\n",
            "       |   Unzipping corpora/smultron.zip.\n",
            "       | Downloading package state_union to /root/nltk_data...\n",
            "       |   Unzipping corpora/state_union.zip.\n",
            "       | Downloading package stopwords to /root/nltk_data...\n",
            "       |   Unzipping corpora/stopwords.zip.\n",
            "       | Downloading package subjectivity to /root/nltk_data...\n",
            "       |   Unzipping corpora/subjectivity.zip.\n",
            "       | Downloading package swadesh to /root/nltk_data...\n",
            "       |   Unzipping corpora/swadesh.zip.\n",
            "       | Downloading package switchboard to /root/nltk_data...\n",
            "       |   Unzipping corpora/switchboard.zip.\n",
            "       | Downloading package timit to /root/nltk_data...\n",
            "       |   Unzipping corpora/timit.zip.\n",
            "       | Downloading package toolbox to /root/nltk_data...\n",
            "       |   Unzipping corpora/toolbox.zip.\n",
            "       | Downloading package treebank to /root/nltk_data...\n",
            "       |   Unzipping corpora/treebank.zip.\n",
            "       | Downloading package twitter_samples to /root/nltk_data...\n",
            "       |   Unzipping corpora/twitter_samples.zip.\n",
            "       | Downloading package udhr to /root/nltk_data...\n",
            "       |   Unzipping corpora/udhr.zip.\n",
            "       | Downloading package udhr2 to /root/nltk_data...\n",
            "       |   Unzipping corpora/udhr2.zip.\n",
            "       | Downloading package unicode_samples to /root/nltk_data...\n",
            "       |   Unzipping corpora/unicode_samples.zip.\n",
            "       | Downloading package universal_treebanks_v20 to\n",
            "       |     /root/nltk_data...\n",
            "       | Downloading package verbnet to /root/nltk_data...\n",
            "       |   Unzipping corpora/verbnet.zip.\n",
            "       | Downloading package verbnet3 to /root/nltk_data...\n",
            "       |   Unzipping corpora/verbnet3.zip.\n",
            "       | Downloading package webtext to /root/nltk_data...\n",
            "       |   Unzipping corpora/webtext.zip.\n",
            "       | Downloading package wordnet to /root/nltk_data...\n",
            "       |   Unzipping corpora/wordnet.zip.\n",
            "       | Downloading package wordnet_ic to /root/nltk_data...\n",
            "       |   Unzipping corpora/wordnet_ic.zip.\n",
            "       | Downloading package words to /root/nltk_data...\n",
            "       |   Unzipping corpora/words.zip.\n",
            "       | Downloading package ycoe to /root/nltk_data...\n",
            "       |   Unzipping corpora/ycoe.zip.\n",
            "       | Downloading package rslp to /root/nltk_data...\n",
            "       |   Unzipping stemmers/rslp.zip.\n",
            "       | Downloading package maxent_treebank_pos_tagger to\n",
            "       |     /root/nltk_data...\n",
            "       |   Unzipping taggers/maxent_treebank_pos_tagger.zip.\n",
            "       | Downloading package universal_tagset to /root/nltk_data...\n",
            "       |   Unzipping taggers/universal_tagset.zip.\n",
            "       | Downloading package maxent_ne_chunker to /root/nltk_data...\n",
            "       |   Unzipping chunkers/maxent_ne_chunker.zip.\n",
            "       | Downloading package punkt to /root/nltk_data...\n",
            "       |   Unzipping tokenizers/punkt.zip.\n",
            "       | Downloading package book_grammars to /root/nltk_data...\n",
            "       |   Unzipping grammars/book_grammars.zip.\n",
            "       | Downloading package sample_grammars to /root/nltk_data...\n",
            "       |   Unzipping grammars/sample_grammars.zip.\n",
            "       | Downloading package spanish_grammars to /root/nltk_data...\n",
            "       |   Unzipping grammars/spanish_grammars.zip.\n",
            "       | Downloading package basque_grammars to /root/nltk_data...\n",
            "       |   Unzipping grammars/basque_grammars.zip.\n",
            "       | Downloading package large_grammars to /root/nltk_data...\n",
            "       |   Unzipping grammars/large_grammars.zip.\n",
            "       | Downloading package tagsets to /root/nltk_data...\n",
            "       |   Unzipping help/tagsets.zip.\n",
            "       | Downloading package snowball_data to /root/nltk_data...\n",
            "       | Downloading package bllip_wsj_no_aux to /root/nltk_data...\n",
            "       |   Unzipping models/bllip_wsj_no_aux.zip.\n",
            "       | Downloading package word2vec_sample to /root/nltk_data...\n",
            "       |   Unzipping models/word2vec_sample.zip.\n",
            "       | Downloading package panlex_swadesh to /root/nltk_data...\n",
            "       | Downloading package mte_teip5 to /root/nltk_data...\n",
            "       |   Unzipping corpora/mte_teip5.zip.\n",
            "       | Downloading package averaged_perceptron_tagger to\n",
            "       |     /root/nltk_data...\n",
            "       |   Unzipping taggers/averaged_perceptron_tagger.zip.\n",
            "       | Downloading package averaged_perceptron_tagger_ru to\n",
            "       |     /root/nltk_data...\n",
            "       |   Unzipping taggers/averaged_perceptron_tagger_ru.zip.\n",
            "       | Downloading package perluniprops to /root/nltk_data...\n",
            "       |   Unzipping misc/perluniprops.zip.\n",
            "       | Downloading package nonbreaking_prefixes to\n",
            "       |     /root/nltk_data...\n",
            "       |   Unzipping corpora/nonbreaking_prefixes.zip.\n",
            "       | Downloading package vader_lexicon to /root/nltk_data...\n",
            "       | Downloading package porter_test to /root/nltk_data...\n",
            "       |   Unzipping stemmers/porter_test.zip.\n",
            "       | Downloading package wmt15_eval to /root/nltk_data...\n",
            "       |   Unzipping models/wmt15_eval.zip.\n",
            "       | Downloading package mwa_ppdb to /root/nltk_data...\n",
            "       |   Unzipping misc/mwa_ppdb.zip.\n",
            "       | \n",
            "     Done downloading collection all\n",
            "\n",
            "---------------------------------------------------------------------------\n",
            "    d) Download   l) List    u) Update   c) Config   h) Help   q) Quit\n",
            "---------------------------------------------------------------------------\n",
            "Downloader> q\n"
          ],
          "name": "stdout"
        }
      ]
    },
    {
      "cell_type": "code",
      "metadata": {
        "id": "YAzD35cqQFcg",
        "colab": {
          "base_uri": "https://localhost:8080/"
        },
        "outputId": "d16a2556-f06a-4367-ac61-da003ca97d1f"
      },
      "source": [
        "from google.colab import drive\n",
        "drive.mount(\"/content/gdrive\")"
      ],
      "execution_count": null,
      "outputs": [
        {
          "output_type": "stream",
          "text": [
            "Drive already mounted at /content/gdrive; to attempt to forcibly remount, call drive.mount(\"/content/gdrive\", force_remount=True).\n"
          ],
          "name": "stdout"
        }
      ]
    },
    {
      "cell_type": "code",
      "metadata": {
        "id": "_CCnNsMSQ3jp",
        "colab": {
          "base_uri": "https://localhost:8080/"
        },
        "outputId": "f26d8dbc-6358-49f8-9c18-f2eccd37a89c"
      },
      "source": [
        "%cd gdrive/My Drive/Tweets"
      ],
      "execution_count": null,
      "outputs": [
        {
          "output_type": "stream",
          "text": [
            "/content/gdrive/My Drive/Tweets\n"
          ],
          "name": "stdout"
        }
      ]
    },
    {
      "cell_type": "code",
      "metadata": {
        "id": "k4TvTJ2FRDTe"
      },
      "source": [
        "train = pd.read_csv(\"train-2.csv\")"
      ],
      "execution_count": null,
      "outputs": []
    },
    {
      "cell_type": "code",
      "metadata": {
        "id": "vABrBfyLSJLn",
        "colab": {
          "base_uri": "https://localhost:8080/"
        },
        "outputId": "ba1dd8f2-be41-4288-afa9-7bff9c8ba3c4"
      },
      "source": [
        "train.shape"
      ],
      "execution_count": null,
      "outputs": [
        {
          "output_type": "execute_result",
          "data": {
            "text/plain": [
              "(7613, 5)"
            ]
          },
          "metadata": {
            "tags": []
          },
          "execution_count": 11
        }
      ]
    },
    {
      "cell_type": "code",
      "metadata": {
        "id": "rsvpv33cSPrP",
        "colab": {
          "base_uri": "https://localhost:8080/"
        },
        "outputId": "17c4813f-aa38-42bb-876f-487cf108759d"
      },
      "source": [
        "train.info()"
      ],
      "execution_count": null,
      "outputs": [
        {
          "output_type": "stream",
          "text": [
            "<class 'pandas.core.frame.DataFrame'>\n",
            "RangeIndex: 7613 entries, 0 to 7612\n",
            "Data columns (total 5 columns):\n",
            " #   Column    Non-Null Count  Dtype \n",
            "---  ------    --------------  ----- \n",
            " 0   id        7613 non-null   int64 \n",
            " 1   keyword   7552 non-null   object\n",
            " 2   location  5080 non-null   object\n",
            " 3   text      7613 non-null   object\n",
            " 4   target    7613 non-null   int64 \n",
            "dtypes: int64(2), object(3)\n",
            "memory usage: 297.5+ KB\n"
          ],
          "name": "stdout"
        }
      ]
    },
    {
      "cell_type": "markdown",
      "metadata": {
        "id": "TrXRE29nSqTu"
      },
      "source": [
        "## EDA\n",
        "\n",
        "Target Class Distribution"
      ]
    },
    {
      "cell_type": "code",
      "metadata": {
        "id": "CYdUWuOASe-R"
      },
      "source": [
        "plt.rcParams[\"figure.figsize\"] = [8,4]\n",
        "plt.rcParams[\"figure.dpi\"] = 80"
      ],
      "execution_count": null,
      "outputs": []
    },
    {
      "cell_type": "code",
      "metadata": {
        "id": "xKfWcC9eS5jU",
        "colab": {
          "base_uri": "https://localhost:8080/",
          "height": 380
        },
        "outputId": "09f1cd22-5012-4bbc-dfb4-835f69c37a3a"
      },
      "source": [
        "sns.countplot(\"target\", data=train)"
      ],
      "execution_count": null,
      "outputs": [
        {
          "output_type": "stream",
          "text": [
            "/usr/local/lib/python3.6/dist-packages/seaborn/_decorators.py:43: FutureWarning: Pass the following variable as a keyword arg: x. From version 0.12, the only valid positional argument will be `data`, and passing other arguments without an explicit keyword will result in an error or misinterpretation.\n",
            "  FutureWarning\n"
          ],
          "name": "stderr"
        },
        {
          "output_type": "execute_result",
          "data": {
            "text/plain": [
              "<matplotlib.axes._subplots.AxesSubplot at 0x7ff3529897b8>"
            ]
          },
          "metadata": {
            "tags": []
          },
          "execution_count": 14
        },
        {
          "output_type": "display_data",
          "data": {
            "image/png": "[encoded data removed]",
            "text/plain": [
              "<Figure size 640x320 with 1 Axes>"
            ]
          },
          "metadata": {
            "tags": []
          }
        }
      ]
    },
    {
      "cell_type": "code",
      "metadata": {
        "id": "I38ZaaM8TBS_",
        "colab": {
          "base_uri": "https://localhost:8080/"
        },
        "outputId": "0c016221-0fc8-49d5-f396-db2e5fff25ad"
      },
      "source": [
        "train[\"target\"].value_counts()"
      ],
      "execution_count": null,
      "outputs": [
        {
          "output_type": "execute_result",
          "data": {
            "text/plain": [
              "0    4342\n",
              "1    3271\n",
              "Name: target, dtype: int64"
            ]
          },
          "metadata": {
            "tags": []
          },
          "execution_count": 15
        }
      ]
    },
    {
      "cell_type": "code",
      "metadata": {
        "id": "fUpFiaayTV9R",
        "colab": {
          "base_uri": "https://localhost:8080/",
          "height": 291
        },
        "outputId": "9f42e6e5-92c4-4c19-d754-c6279c99c81f"
      },
      "source": [
        "train[\"target\"].value_counts().plot.pie(autopct=\"%1.2f%%\")"
      ],
      "execution_count": null,
      "outputs": [
        {
          "output_type": "execute_result",
          "data": {
            "text/plain": [
              "<matplotlib.axes._subplots.AxesSubplot at 0x7ff3523b6c88>"
            ]
          },
          "metadata": {
            "tags": []
          },
          "execution_count": 16
        },
        {
          "output_type": "display_data",
          "data": {
            "image/png": "[encoded data removed]",
            "text/plain": [
              "<Figure size 640x320 with 1 Axes>"
            ]
          },
          "metadata": {
            "tags": []
          }
        }
      ]
    },
    {
      "cell_type": "markdown",
      "metadata": {
        "id": "MNPlMimATltZ"
      },
      "source": [
        "Tweet Length Distribution"
      ]
    },
    {
      "cell_type": "code",
      "metadata": {
        "id": "M0q1kgzzUcm5"
      },
      "source": [
        "# nltk.download()"
      ],
      "execution_count": null,
      "outputs": []
    },
    {
      "cell_type": "code",
      "metadata": {
        "id": "AYjh4MF2Ueui",
        "colab": {
          "base_uri": "https://localhost:8080/",
          "height": 419
        },
        "outputId": "4126a5fc-e4f1-44a5-9075-526f5322a5a6"
      },
      "source": [
        "train"
      ],
      "execution_count": null,
      "outputs": [
        {
          "output_type": "execute_result",
          "data": {
            "text/html": [
              "<div>\n",
              "<style scoped>\n",
              "    .dataframe tbody tr th:only-of-type {\n",
              "        vertical-align: middle;\n",
              "    }\n",
              "\n",
              "    .dataframe tbody tr th {\n",
              "        vertical-align: top;\n",
              "    }\n",
              "\n",
              "    .dataframe thead th {\n",
              "        text-align: right;\n",
              "    }\n",
              "</style>\n",
              "<table border=\"1\" class=\"dataframe\">\n",
              "  <thead>\n",
              "    <tr style=\"text-align: right;\">\n",
              "      <th></th>\n",
              "      <th>id</th>\n",
              "      <th>keyword</th>\n",
              "      <th>location</th>\n",
              "      <th>text</th>\n",
              "      <th>target</th>\n",
              "    </tr>\n",
              "  </thead>\n",
              "  <tbody>\n",
              "    <tr>\n",
              "      <th>0</th>\n",
              "      <td>1</td>\n",
              "      <td>NaN</td>\n",
              "      <td>NaN</td>\n",
              "      <td>Our Deeds are the Reason of this #earthquake M...</td>\n",
              "      <td>1</td>\n",
              "    </tr>\n",
              "    <tr>\n",
              "      <th>1</th>\n",
              "      <td>4</td>\n",
              "      <td>NaN</td>\n",
              "      <td>NaN</td>\n",
              "      <td>Forest fire near La Ronge Sask. Canada</td>\n",
              "      <td>1</td>\n",
              "    </tr>\n",
              "    <tr>\n",
              "      <th>2</th>\n",
              "      <td>5</td>\n",
              "      <td>NaN</td>\n",
              "      <td>NaN</td>\n",
              "      <td>All residents asked to 'shelter in place' are ...</td>\n",
              "      <td>1</td>\n",
              "    </tr>\n",
              "    <tr>\n",
              "      <th>3</th>\n",
              "      <td>6</td>\n",
              "      <td>NaN</td>\n",
              "      <td>NaN</td>\n",
              "      <td>13,000 people receive #wildfires evacuation or...</td>\n",
              "      <td>1</td>\n",
              "    </tr>\n",
              "    <tr>\n",
              "      <th>4</th>\n",
              "      <td>7</td>\n",
              "      <td>NaN</td>\n",
              "      <td>NaN</td>\n",
              "      <td>Just got sent this photo from Ruby #Alaska as ...</td>\n",
              "      <td>1</td>\n",
              "    </tr>\n",
              "    <tr>\n",
              "      <th>...</th>\n",
              "      <td>...</td>\n",
              "      <td>...</td>\n",
              "      <td>...</td>\n",
              "      <td>...</td>\n",
              "      <td>...</td>\n",
              "    </tr>\n",
              "    <tr>\n",
              "      <th>7608</th>\n",
              "      <td>10869</td>\n",
              "      <td>NaN</td>\n",
              "      <td>NaN</td>\n",
              "      <td>Two giant cranes holding a bridge collapse int...</td>\n",
              "      <td>1</td>\n",
              "    </tr>\n",
              "    <tr>\n",
              "      <th>7609</th>\n",
              "      <td>10870</td>\n",
              "      <td>NaN</td>\n",
              "      <td>NaN</td>\n",
              "      <td>@aria_ahrary @TheTawniest The out of control w...</td>\n",
              "      <td>1</td>\n",
              "    </tr>\n",
              "    <tr>\n",
              "      <th>7610</th>\n",
              "      <td>10871</td>\n",
              "      <td>NaN</td>\n",
              "      <td>NaN</td>\n",
              "      <td>M1.94 [01:04 UTC]?5km S of Volcano Hawaii. htt...</td>\n",
              "      <td>1</td>\n",
              "    </tr>\n",
              "    <tr>\n",
              "      <th>7611</th>\n",
              "      <td>10872</td>\n",
              "      <td>NaN</td>\n",
              "      <td>NaN</td>\n",
              "      <td>Police investigating after an e-bike collided ...</td>\n",
              "      <td>1</td>\n",
              "    </tr>\n",
              "    <tr>\n",
              "      <th>7612</th>\n",
              "      <td>10873</td>\n",
              "      <td>NaN</td>\n",
              "      <td>NaN</td>\n",
              "      <td>The Latest: More Homes Razed by Northern Calif...</td>\n",
              "      <td>1</td>\n",
              "    </tr>\n",
              "  </tbody>\n",
              "</table>\n",
              "<p>7613 rows × 5 columns</p>\n",
              "</div>"
            ],
            "text/plain": [
              "         id keyword  ...                                               text target\n",
              "0         1     NaN  ...  Our Deeds are the Reason of this #earthquake M...      1\n",
              "1         4     NaN  ...             Forest fire near La Ronge Sask. Canada      1\n",
              "2         5     NaN  ...  All residents asked to 'shelter in place' are ...      1\n",
              "3         6     NaN  ...  13,000 people receive #wildfires evacuation or...      1\n",
              "4         7     NaN  ...  Just got sent this photo from Ruby #Alaska as ...      1\n",
              "...     ...     ...  ...                                                ...    ...\n",
              "7608  10869     NaN  ...  Two giant cranes holding a bridge collapse int...      1\n",
              "7609  10870     NaN  ...  @aria_ahrary @TheTawniest The out of control w...      1\n",
              "7610  10871     NaN  ...  M1.94 [01:04 UTC]?5km S of Volcano Hawaii. htt...      1\n",
              "7611  10872     NaN  ...  Police investigating after an e-bike collided ...      1\n",
              "7612  10873     NaN  ...  The Latest: More Homes Razed by Northern Calif...      1\n",
              "\n",
              "[7613 rows x 5 columns]"
            ]
          },
          "metadata": {
            "tags": []
          },
          "execution_count": 18
        }
      ]
    },
    {
      "cell_type": "code",
      "metadata": {
        "id": "61BTsjbNVsuM",
        "colab": {
          "base_uri": "https://localhost:8080/",
          "height": 392
        },
        "outputId": "a97db406-b14e-4915-f9b0-c72ab9c56771"
      },
      "source": [
        "# character frequency in tweets\n",
        "\n",
        "fig,(ax1,ax2)=plt.subplots(1,2,figsize=(10,5))\n",
        "tweet_len=train[train[\"target\"]==1][\"text\"].str.len()\n",
        "ax1.hist(tweet_len,color=\"red\")\n",
        "ax1.set_title(\"disaster tweets\")\n",
        "tweet_len=train[train[\"target\"]==0][\"text\"].str.len()\n",
        "ax2.hist(tweet_len,color=\"green\")\n",
        "ax2.set_title(\"Not disaster tweets\")\n",
        "fig.suptitle(\"Characters in tweets\")\n",
        "plt.show()"
      ],
      "execution_count": null,
      "outputs": [
        {
          "output_type": "display_data",
          "data": {
            "image/png": "[encoded data removed]",
            "text/plain": [
              "<Figure size 800x400 with 2 Axes>"
            ]
          },
          "metadata": {
            "tags": []
          }
        }
      ]
    },
    {
      "cell_type": "code",
      "metadata": {
        "id": "jl296_-8YHqN",
        "colab": {
          "base_uri": "https://localhost:8080/",
          "height": 515
        },
        "outputId": "1f5adf8a-3338-4218-af02-6b3470acb51c"
      },
      "source": [
        "# tweet average word length\n",
        "\n",
        "fig,(ax1,ax2)=plt.subplots(1,2,figsize=(10,5))\n",
        "word=train[train[\"target\"]==1][\"text\"].str.split().apply(lambda x : [len(i) for i in x])\n",
        "sns.distplot(word.map(lambda x: np.mean(x)),ax=ax1,color=\"red\")\n",
        "ax1.set_title(\"disaster\")\n",
        "word=train[train[\"target\"]==0][\"text\"].str.split().apply(lambda x : [len(i) for i in x])\n",
        "sns.distplot(word.map(lambda x: np.mean(x)),ax=ax2,color=\"green\")\n",
        "ax2.set_title(\"Not disaster\")\n",
        "fig.suptitle(\"Average word length in each tweet\")"
      ],
      "execution_count": null,
      "outputs": [
        {
          "output_type": "stream",
          "text": [
            "/usr/local/lib/python3.6/dist-packages/seaborn/distributions.py:2551: FutureWarning: `distplot` is a deprecated function and will be removed in a future version. Please adapt your code to use either `displot` (a figure-level function with similar flexibility) or `histplot` (an axes-level function for histograms).\n",
            "  warnings.warn(msg, FutureWarning)\n",
            "/usr/local/lib/python3.6/dist-packages/seaborn/distributions.py:2551: FutureWarning: `distplot` is a deprecated function and will be removed in a future version. Please adapt your code to use either `displot` (a figure-level function with similar flexibility) or `histplot` (an axes-level function for histograms).\n",
            "  warnings.warn(msg, FutureWarning)\n"
          ],
          "name": "stderr"
        },
        {
          "output_type": "execute_result",
          "data": {
            "text/plain": [
              "Text(0.5, 0.98, 'Average word length in each tweet')"
            ]
          },
          "metadata": {
            "tags": []
          },
          "execution_count": 20
        },
        {
          "output_type": "display_data",
          "data": {
            "image/png": "[encoded data removed]",
            "text/plain": [
              "<Figure size 800x400 with 2 Axes>"
            ]
          },
          "metadata": {
            "tags": []
          }
        }
      ]
    },
    {
      "cell_type": "code",
      "metadata": {
        "id": "tLCreeZdb3PL"
      },
      "source": [
        "def create_corpus(target):\n",
        "    corpus=[]\n",
        "    \n",
        "    for x in train[train[\"target\"]==target][\"text\"].str.split():\n",
        "        for i in x:\n",
        "            corpus.append(i)\n",
        "    return corpus"
      ],
      "execution_count": null,
      "outputs": []
    },
    {
      "cell_type": "code",
      "metadata": {
        "id": "w2eM1S7fVvYq"
      },
      "source": [
        "# find common stopwords for class 0\n",
        "\n",
        "corpus=create_corpus(0)\n",
        "\n",
        "dic=defaultdict(int)\n",
        "for word in corpus:\n",
        "    if word in stop:\n",
        "        dic[word]+=1\n",
        "        \n",
        "top=sorted(dic.items(), key=lambda x:x[1],reverse=True)[:10] "
      ],
      "execution_count": null,
      "outputs": []
    },
    {
      "cell_type": "code",
      "metadata": {
        "id": "lT8y-3TBVwOX",
        "colab": {
          "base_uri": "https://localhost:8080/",
          "height": 313
        },
        "outputId": "8a30b134-7333-4fe4-f0b6-e10d5cdf2312"
      },
      "source": [
        "x,y=zip(*top)\n",
        "plt.bar(x,y,color=\"green\")"
      ],
      "execution_count": null,
      "outputs": [
        {
          "output_type": "execute_result",
          "data": {
            "text/plain": [
              "<BarContainer object of 10 artists>"
            ]
          },
          "metadata": {
            "tags": []
          },
          "execution_count": 23
        },
        {
          "output_type": "display_data",
          "data": {
            "image/png": "[encoded data removed]",
            "text/plain": [
              "<Figure size 640x320 with 1 Axes>"
            ]
          },
          "metadata": {
            "tags": []
          }
        }
      ]
    },
    {
      "cell_type": "code",
      "metadata": {
        "id": "I28dvZZHcLWd"
      },
      "source": [
        "# find common stopwords for class 1\n",
        "corpus=create_corpus(1)\n",
        "\n",
        "dic=defaultdict(int)\n",
        "for word in corpus:\n",
        "    if word in stop:\n",
        "        dic[word]+=1\n",
        "\n",
        "top=sorted(dic.items(), key=lambda x:x[1],reverse=True)[:10] "
      ],
      "execution_count": null,
      "outputs": []
    },
    {
      "cell_type": "code",
      "metadata": {
        "id": "jXY6_fracb1i",
        "colab": {
          "base_uri": "https://localhost:8080/",
          "height": 309
        },
        "outputId": "f03d99bc-75e0-4a33-c686-50fc27c99d6b"
      },
      "source": [
        "x,y=zip(*top)\n",
        "plt.bar(x,y)"
      ],
      "execution_count": null,
      "outputs": [
        {
          "output_type": "execute_result",
          "data": {
            "text/plain": [
              "<BarContainer object of 10 artists>"
            ]
          },
          "metadata": {
            "tags": []
          },
          "execution_count": 25
        },
        {
          "output_type": "display_data",
          "data": {
            "image/png": "[encoded data removed]",
            "text/plain": [
              "<Figure size 640x320 with 1 Axes>"
            ]
          },
          "metadata": {
            "tags": []
          }
        }
      ]
    },
    {
      "cell_type": "code",
      "metadata": {
        "id": "I7AZ7UwdcdUq"
      },
      "source": [
        "# punctuation in class 0\n",
        "\n",
        "corpus=create_corpus(0)\n",
        "\n",
        "dic=defaultdict(int)\n",
        "import string\n",
        "special = string.punctuation\n",
        "for i in (corpus):\n",
        "    if i in special:\n",
        "        dic[i]+=1"
      ],
      "execution_count": null,
      "outputs": []
    },
    {
      "cell_type": "code",
      "metadata": {
        "id": "AuFWWxIPcsDI",
        "colab": {
          "base_uri": "https://localhost:8080/",
          "height": 309
        },
        "outputId": "ab339469-2d44-4266-e661-db8e30ec67f8"
      },
      "source": [
        "x,y=zip(*dic.items())\n",
        "plt.bar(x,y,color=\"green\")"
      ],
      "execution_count": null,
      "outputs": [
        {
          "output_type": "execute_result",
          "data": {
            "text/plain": [
              "<BarContainer object of 20 artists>"
            ]
          },
          "metadata": {
            "tags": []
          },
          "execution_count": 27
        },
        {
          "output_type": "display_data",
          "data": {
            "image/png": "[encoded data removed]",
            "text/plain": [
              "<Figure size 640x320 with 1 Axes>"
            ]
          },
          "metadata": {
            "tags": []
          }
        }
      ]
    },
    {
      "cell_type": "code",
      "metadata": {
        "id": "bkazLpQDctK1"
      },
      "source": [
        "# punctuation in class 1\n",
        "\n",
        "corpus=create_corpus(1)\n",
        "\n",
        "dic=defaultdict(int)\n",
        "import string\n",
        "special = string.punctuation\n",
        "for i in (corpus):\n",
        "    if i in special:\n",
        "        dic[i]+=1"
      ],
      "execution_count": null,
      "outputs": []
    },
    {
      "cell_type": "code",
      "metadata": {
        "id": "lfh89y1lc6ae",
        "colab": {
          "base_uri": "https://localhost:8080/",
          "height": 309
        },
        "outputId": "e0d2ea4a-1930-4272-e332-83bcae1618f2"
      },
      "source": [
        "x,y=zip(*dic.items())\n",
        "plt.bar(x,y)"
      ],
      "execution_count": null,
      "outputs": [
        {
          "output_type": "execute_result",
          "data": {
            "text/plain": [
              "<BarContainer object of 18 artists>"
            ]
          },
          "metadata": {
            "tags": []
          },
          "execution_count": 29
        },
        {
          "output_type": "display_data",
          "data": {
            "image/png": "[encoded data removed]",
            "text/plain": [
              "<Figure size 640x320 with 1 Axes>"
            ]
          },
          "metadata": {
            "tags": []
          }
        }
      ]
    },
    {
      "cell_type": "code",
      "metadata": {
        "id": "yLzeGf-nc78s"
      },
      "source": [
        "counter=Counter(corpus)\n",
        "most=counter.most_common()\n",
        "x=[]\n",
        "y=[]\n",
        "for word,count in most[:40]:\n",
        "    if (word not in stop) :\n",
        "        x.append(word)\n",
        "        y.append(count)"
      ],
      "execution_count": null,
      "outputs": []
    },
    {
      "cell_type": "code",
      "metadata": {
        "id": "dolWcoA5dK6h",
        "colab": {
          "base_uri": "https://localhost:8080/",
          "height": 309
        },
        "outputId": "bf869488-7c55-4b6b-fb85-6305c7ce703f"
      },
      "source": [
        "sns.barplot(x=y,y=x)"
      ],
      "execution_count": null,
      "outputs": [
        {
          "output_type": "execute_result",
          "data": {
            "text/plain": [
              "<matplotlib.axes._subplots.AxesSubplot at 0x7ff350a67470>"
            ]
          },
          "metadata": {
            "tags": []
          },
          "execution_count": 31
        },
        {
          "output_type": "display_data",
          "data": {
            "image/png": "[encoded data removed]",
            "text/plain": [
              "<Figure size 640x320 with 1 Axes>"
            ]
          },
          "metadata": {
            "tags": []
          }
        }
      ]
    },
    {
      "cell_type": "code",
      "metadata": {
        "id": "ag3gwdg8dNCt"
      },
      "source": [
        "# ngram analysis\n",
        "\n",
        "def get_top_tweet_bigrams(corpus, n=None):\n",
        "    vec = CountVectorizer(ngram_range=(2, 2)).fit(corpus)\n",
        "    bag_of_words = vec.transform(corpus)\n",
        "    sum_words = bag_of_words.sum(axis=0) \n",
        "    words_freq = [(word, sum_words[0, idx]) for word, idx in vec.vocabulary_.items()]\n",
        "    words_freq =sorted(words_freq, key = lambda x: x[1], reverse=True)\n",
        "    return words_freq[:n]"
      ],
      "execution_count": null,
      "outputs": []
    },
    {
      "cell_type": "code",
      "metadata": {
        "id": "Gf88uP9EdT-K",
        "colab": {
          "base_uri": "https://localhost:8080/",
          "height": 369
        },
        "outputId": "f5faa734-2e51-427e-f70f-e3178e9ddaf4"
      },
      "source": [
        "plt.figure(figsize=(10,5))\n",
        "top_tweet_bigrams=get_top_tweet_bigrams(train[\"text\"])[:10]\n",
        "x,y=map(list,zip(*top_tweet_bigrams))\n",
        "sns.barplot(x=y,y=x)"
      ],
      "execution_count": null,
      "outputs": [
        {
          "output_type": "execute_result",
          "data": {
            "text/plain": [
              "<matplotlib.axes._subplots.AxesSubplot at 0x7ff350dca0f0>"
            ]
          },
          "metadata": {
            "tags": []
          },
          "execution_count": 33
        },
        {
          "output_type": "display_data",
          "data": {
            "image/png": "[encoded data removed]",
            "text/plain": [
              "<Figure size 800x400 with 1 Axes>"
            ]
          },
          "metadata": {
            "tags": []
          }
        }
      ]
    },
    {
      "cell_type": "code",
      "metadata": {
        "id": "emrIheaKdWEk"
      },
      "source": [
        "# data cleaning\n",
        "\n",
        "test = pd.read_csv(\"test-2.csv\")"
      ],
      "execution_count": null,
      "outputs": []
    },
    {
      "cell_type": "code",
      "metadata": {
        "id": "9fDEahBGdleL",
        "colab": {
          "base_uri": "https://localhost:8080/"
        },
        "outputId": "0be9f0c4-4ce7-44f8-dc6e-877973b4d728"
      },
      "source": [
        "tweets = pd.concat([train, test])\n",
        "tweets.shape"
      ],
      "execution_count": null,
      "outputs": [
        {
          "output_type": "execute_result",
          "data": {
            "text/plain": [
              "(10876, 5)"
            ]
          },
          "metadata": {
            "tags": []
          },
          "execution_count": 35
        }
      ]
    },
    {
      "cell_type": "code",
      "metadata": {
        "id": "nivcCzVmehu7"
      },
      "source": [
        "# remove URL\n",
        "\n",
        "def remove_URL(text):\n",
        "    url = re.compile(r\"https?://\\S+|www\\.\\S+\")\n",
        "    return url.sub(r\"\",text)"
      ],
      "execution_count": null,
      "outputs": []
    },
    {
      "cell_type": "code",
      "metadata": {
        "id": "C8j1Wj53ei2q"
      },
      "source": [
        "tweets[\"text\"] = tweets[\"text\"].apply(lambda x : remove_URL(x))"
      ],
      "execution_count": null,
      "outputs": []
    },
    {
      "cell_type": "code",
      "metadata": {
        "id": "l-Bu-g-Oe8BS"
      },
      "source": [
        "# remove HTML tags\n",
        "\n",
        "def remove_html(text):\n",
        "    html=re.compile(r\"<.*?>\")\n",
        "    return html.sub(r\"\",text)"
      ],
      "execution_count": null,
      "outputs": []
    },
    {
      "cell_type": "code",
      "metadata": {
        "id": "NanN_5P4fAHN"
      },
      "source": [
        "tweets[\"text\"] = tweets[\"text\"].apply(lambda x : remove_html(x))"
      ],
      "execution_count": null,
      "outputs": []
    },
    {
      "cell_type": "code",
      "metadata": {
        "id": "JyQYv0Y_fFct"
      },
      "source": [
        "# remove Emojis\n",
        "\n",
        "def remove_emoji(text):\n",
        "    emoji_pattern = re.compile(\"[\"\n",
        "                           u\"\\U0001F600-\\U0001F64F\"  # emoticons\n",
        "                           u\"\\U0001F300-\\U0001F5FF\"  # symbols & pictographs\n",
        "                           u\"\\U0001F680-\\U0001F6FF\"  # transport & map symbols\n",
        "                           u\"\\U0001F1E0-\\U0001F1FF\"  # flags (iOS)\n",
        "                           u\"\\U00002702-\\U000027B0\"\n",
        "                           u\"\\U000024C2-\\U0001F251\"\n",
        "                           \"]+\", flags=re.UNICODE)\n",
        "    return emoji_pattern.sub(r\"\", text)"
      ],
      "execution_count": null,
      "outputs": []
    },
    {
      "cell_type": "code",
      "metadata": {
        "id": "LBpAWnL8fKEZ"
      },
      "source": [
        "tweets[\"text\"] = tweets[\"text\"].apply(lambda x: remove_emoji(x))"
      ],
      "execution_count": null,
      "outputs": []
    },
    {
      "cell_type": "code",
      "metadata": {
        "id": "sb1jYGn5fO7R"
      },
      "source": [
        "# remove punctuation\n",
        "\n",
        "def remove_punct(text):\n",
        "    table=str.maketrans(\"\",\"\",string.punctuation)\n",
        "    return text.translate(table)"
      ],
      "execution_count": null,
      "outputs": []
    },
    {
      "cell_type": "code",
      "metadata": {
        "id": "2q8orey5fSb0"
      },
      "source": [
        "tweets[\"text\"] = tweets[\"text\"].apply(lambda x : remove_punct(x))"
      ],
      "execution_count": null,
      "outputs": []
    },
    {
      "cell_type": "code",
      "metadata": {
        "id": "CzKbpAxYfWFz"
      },
      "source": [
        "# correct incorrect spelling"
      ],
      "execution_count": null,
      "outputs": []
    },
    {
      "cell_type": "code",
      "metadata": {
        "id": "AGz27zAifbKK"
      },
      "source": [
        "# !pip install pyspellchecker"
      ],
      "execution_count": null,
      "outputs": []
    },
    {
      "cell_type": "code",
      "metadata": {
        "id": "-X31MnGhfbhe",
        "colab": {
          "base_uri": "https://localhost:8080/",
          "height": 86
        },
        "outputId": "68765274-07c0-4db0-fb1b-dd2117a2a354"
      },
      "source": [
        "\"\"\"from spellchecker import SpellChecker\n",
        "\n",
        "spell = SpellChecker()\n",
        "def correct_spellings(text):\n",
        "    corrected_text = []\n",
        "    misspelled_words = spell.unknown(text.split())\n",
        "    for word in text.split():\n",
        "        if word in misspelled_words:\n",
        "            corrected_text.append(spell.correction(word))\n",
        "        else:\n",
        "            corrected_text.append(word)\n",
        "    return \" \".join(corrected_text) \"\"\""
      ],
      "execution_count": null,
      "outputs": [
        {
          "output_type": "execute_result",
          "data": {
            "application/vnd.google.colaboratory.intrinsic+json": {
              "type": "string"
            },
            "text/plain": [
              "'from spellchecker import SpellChecker\\n\\nspell = SpellChecker()\\ndef correct_spellings(text):\\n    corrected_text = []\\n    misspelled_words = spell.unknown(text.split())\\n    for word in text.split():\\n        if word in misspelled_words:\\n            corrected_text.append(spell.correction(word))\\n        else:\\n            corrected_text.append(word)\\n    return \" \".join(corrected_text) '"
            ]
          },
          "metadata": {
            "tags": []
          },
          "execution_count": 46
        }
      ]
    },
    {
      "cell_type": "code",
      "metadata": {
        "id": "iI0HFDrNfd0J"
      },
      "source": [
        "#tweets[\"text\"] = tweets[\"text\"].apply(lambda x : correct_spellings(x))"
      ],
      "execution_count": null,
      "outputs": []
    },
    {
      "cell_type": "code",
      "metadata": {
        "id": "-Lvbn3PcfkiQ"
      },
      "source": [
        "!wget --quiet https://raw.githubusercontent.com/tensorflow/models/master/official/nlp/bert/tokenization.py"
      ],
      "execution_count": null,
      "outputs": []
    },
    {
      "cell_type": "code",
      "metadata": {
        "id": "48KfCxlXjDuB",
        "colab": {
          "base_uri": "https://localhost:8080/"
        },
        "outputId": "1d5a8209-ceca-4d80-8de1-9423f29e89ee"
      },
      "source": [
        "!pip install sentencepiece\n",
        "\n",
        "import tensorflow as tf\n",
        "from tensorflow.keras.layers import Dense, Input\n",
        "from tensorflow.keras.optimizers import Adam\n",
        "from tensorflow.keras.models import Model\n",
        "from tensorflow.keras.callbacks import ModelCheckpoint\n",
        "import tensorflow_hub as hub\n",
        "\n",
        "import tokenization"
      ],
      "execution_count": null,
      "outputs": [
        {
          "output_type": "stream",
          "text": [
            "Collecting sentencepiece\n",
            "\u001b[?25l  Downloading https://files.pythonhosted.org/packages/e5/2d/6d4ca4bef9a67070fa1cac508606328329152b1df10bdf31fb6e4e727894/sentencepiece-0.1.94-cp36-cp36m-manylinux2014_x86_64.whl (1.1MB)\n",
            "\r\u001b[K     |▎                               | 10kB 23.5MB/s eta 0:00:01\r\u001b[K     |▋                               | 20kB 29.4MB/s eta 0:00:01\r\u001b[K     |▉                               | 30kB 16.1MB/s eta 0:00:01\r\u001b[K     |█▏                              | 40kB 12.3MB/s eta 0:00:01\r\u001b[K     |█▌                              | 51kB 11.8MB/s eta 0:00:01\r\u001b[K     |█▊                              | 61kB 11.8MB/s eta 0:00:01\r\u001b[K     |██                              | 71kB 11.9MB/s eta 0:00:01\r\u001b[K     |██▍                             | 81kB 11.4MB/s eta 0:00:01\r\u001b[K     |██▋                             | 92kB 11.5MB/s eta 0:00:01\r\u001b[K     |███                             | 102kB 11.7MB/s eta 0:00:01\r\u001b[K     |███▎                            | 112kB 11.7MB/s eta 0:00:01\r\u001b[K     |███▌                            | 122kB 11.7MB/s eta 0:00:01\r\u001b[K     |███▉                            | 133kB 11.7MB/s eta 0:00:01\r\u001b[K     |████▏                           | 143kB 11.7MB/s eta 0:00:01\r\u001b[K     |████▍                           | 153kB 11.7MB/s eta 0:00:01\r\u001b[K     |████▊                           | 163kB 11.7MB/s eta 0:00:01\r\u001b[K     |█████                           | 174kB 11.7MB/s eta 0:00:01\r\u001b[K     |█████▎                          | 184kB 11.7MB/s eta 0:00:01\r\u001b[K     |█████▋                          | 194kB 11.7MB/s eta 0:00:01\r\u001b[K     |█████▉                          | 204kB 11.7MB/s eta 0:00:01\r\u001b[K     |██████▏                         | 215kB 11.7MB/s eta 0:00:01\r\u001b[K     |██████▌                         | 225kB 11.7MB/s eta 0:00:01\r\u001b[K     |██████▊                         | 235kB 11.7MB/s eta 0:00:01\r\u001b[K     |███████                         | 245kB 11.7MB/s eta 0:00:01\r\u001b[K     |███████▍                        | 256kB 11.7MB/s eta 0:00:01\r\u001b[K     |███████▋                        | 266kB 11.7MB/s eta 0:00:01\r\u001b[K     |████████                        | 276kB 11.7MB/s eta 0:00:01\r\u001b[K     |████████▎                       | 286kB 11.7MB/s eta 0:00:01\r\u001b[K     |████████▌                       | 296kB 11.7MB/s eta 0:00:01\r\u001b[K     |████████▉                       | 307kB 11.7MB/s eta 0:00:01\r\u001b[K     |█████████                       | 317kB 11.7MB/s eta 0:00:01\r\u001b[K     |█████████▍                      | 327kB 11.7MB/s eta 0:00:01\r\u001b[K     |█████████▊                      | 337kB 11.7MB/s eta 0:00:01\r\u001b[K     |██████████                      | 348kB 11.7MB/s eta 0:00:01\r\u001b[K     |██████████▎                     | 358kB 11.7MB/s eta 0:00:01\r\u001b[K     |██████████▋                     | 368kB 11.7MB/s eta 0:00:01\r\u001b[K     |██████████▉                     | 378kB 11.7MB/s eta 0:00:01\r\u001b[K     |███████████▏                    | 389kB 11.7MB/s eta 0:00:01\r\u001b[K     |███████████▌                    | 399kB 11.7MB/s eta 0:00:01\r\u001b[K     |███████████▊                    | 409kB 11.7MB/s eta 0:00:01\r\u001b[K     |████████████                    | 419kB 11.7MB/s eta 0:00:01\r\u001b[K     |████████████▍                   | 430kB 11.7MB/s eta 0:00:01\r\u001b[K     |████████████▋                   | 440kB 11.7MB/s eta 0:00:01\r\u001b[K     |█████████████                   | 450kB 11.7MB/s eta 0:00:01\r\u001b[K     |█████████████▎                  | 460kB 11.7MB/s eta 0:00:01\r\u001b[K     |█████████████▌                  | 471kB 11.7MB/s eta 0:00:01\r\u001b[K     |█████████████▉                  | 481kB 11.7MB/s eta 0:00:01\r\u001b[K     |██████████████                  | 491kB 11.7MB/s eta 0:00:01\r\u001b[K     |██████████████▍                 | 501kB 11.7MB/s eta 0:00:01\r\u001b[K     |██████████████▊                 | 512kB 11.7MB/s eta 0:00:01\r\u001b[K     |███████████████                 | 522kB 11.7MB/s eta 0:00:01\r\u001b[K     |███████████████▎                | 532kB 11.7MB/s eta 0:00:01\r\u001b[K     |███████████████▋                | 542kB 11.7MB/s eta 0:00:01\r\u001b[K     |███████████████▉                | 552kB 11.7MB/s eta 0:00:01\r\u001b[K     |████████████████▏               | 563kB 11.7MB/s eta 0:00:01\r\u001b[K     |████████████████▌               | 573kB 11.7MB/s eta 0:00:01\r\u001b[K     |████████████████▊               | 583kB 11.7MB/s eta 0:00:01\r\u001b[K     |█████████████████               | 593kB 11.7MB/s eta 0:00:01\r\u001b[K     |█████████████████▍              | 604kB 11.7MB/s eta 0:00:01\r\u001b[K     |█████████████████▋              | 614kB 11.7MB/s eta 0:00:01\r\u001b[K     |██████████████████              | 624kB 11.7MB/s eta 0:00:01\r\u001b[K     |██████████████████▏             | 634kB 11.7MB/s eta 0:00:01\r\u001b[K     |██████████████████▌             | 645kB 11.7MB/s eta 0:00:01\r\u001b[K     |██████████████████▉             | 655kB 11.7MB/s eta 0:00:01\r\u001b[K     |███████████████████             | 665kB 11.7MB/s eta 0:00:01\r\u001b[K     |███████████████████▍            | 675kB 11.7MB/s eta 0:00:01\r\u001b[K     |███████████████████▊            | 686kB 11.7MB/s eta 0:00:01\r\u001b[K     |████████████████████            | 696kB 11.7MB/s eta 0:00:01\r\u001b[K     |████████████████████▎           | 706kB 11.7MB/s eta 0:00:01\r\u001b[K     |████████████████████▋           | 716kB 11.7MB/s eta 0:00:01\r\u001b[K     |████████████████████▉           | 727kB 11.7MB/s eta 0:00:01\r\u001b[K     |█████████████████████▏          | 737kB 11.7MB/s eta 0:00:01\r\u001b[K     |█████████████████████▌          | 747kB 11.7MB/s eta 0:00:01\r\u001b[K     |█████████████████████▊          | 757kB 11.7MB/s eta 0:00:01\r\u001b[K     |██████████████████████          | 768kB 11.7MB/s eta 0:00:01\r\u001b[K     |██████████████████████▎         | 778kB 11.7MB/s eta 0:00:01\r\u001b[K     |██████████████████████▋         | 788kB 11.7MB/s eta 0:00:01\r\u001b[K     |███████████████████████         | 798kB 11.7MB/s eta 0:00:01\r\u001b[K     |███████████████████████▏        | 808kB 11.7MB/s eta 0:00:01\r\u001b[K     |███████████████████████▌        | 819kB 11.7MB/s eta 0:00:01\r\u001b[K     |███████████████████████▉        | 829kB 11.7MB/s eta 0:00:01\r\u001b[K     |████████████████████████        | 839kB 11.7MB/s eta 0:00:01\r\u001b[K     |████████████████████████▍       | 849kB 11.7MB/s eta 0:00:01\r\u001b[K     |████████████████████████▊       | 860kB 11.7MB/s eta 0:00:01\r\u001b[K     |█████████████████████████       | 870kB 11.7MB/s eta 0:00:01\r\u001b[K     |█████████████████████████▎      | 880kB 11.7MB/s eta 0:00:01\r\u001b[K     |█████████████████████████▋      | 890kB 11.7MB/s eta 0:00:01\r\u001b[K     |█████████████████████████▉      | 901kB 11.7MB/s eta 0:00:01\r\u001b[K     |██████████████████████████▏     | 911kB 11.7MB/s eta 0:00:01\r\u001b[K     |██████████████████████████▌     | 921kB 11.7MB/s eta 0:00:01\r\u001b[K     |██████████████████████████▊     | 931kB 11.7MB/s eta 0:00:01\r\u001b[K     |███████████████████████████     | 942kB 11.7MB/s eta 0:00:01\r\u001b[K     |███████████████████████████▎    | 952kB 11.7MB/s eta 0:00:01\r\u001b[K     |███████████████████████████▋    | 962kB 11.7MB/s eta 0:00:01\r\u001b[K     |████████████████████████████    | 972kB 11.7MB/s eta 0:00:01\r\u001b[K     |████████████████████████████▏   | 983kB 11.7MB/s eta 0:00:01\r\u001b[K     |████████████████████████████▌   | 993kB 11.7MB/s eta 0:00:01\r\u001b[K     |████████████████████████████▉   | 1.0MB 11.7MB/s eta 0:00:01\r\u001b[K     |█████████████████████████████   | 1.0MB 11.7MB/s eta 0:00:01\r\u001b[K     |█████████████████████████████▍  | 1.0MB 11.7MB/s eta 0:00:01\r\u001b[K     |█████████████████████████████▊  | 1.0MB 11.7MB/s eta 0:00:01\r\u001b[K     |██████████████████████████████  | 1.0MB 11.7MB/s eta 0:00:01\r\u001b[K     |██████████████████████████████▎ | 1.1MB 11.7MB/s eta 0:00:01\r\u001b[K     |██████████████████████████████▋ | 1.1MB 11.7MB/s eta 0:00:01\r\u001b[K     |██████████████████████████████▉ | 1.1MB 11.7MB/s eta 0:00:01\r\u001b[K     |███████████████████████████████▏| 1.1MB 11.7MB/s eta 0:00:01\r\u001b[K     |███████████████████████████████▍| 1.1MB 11.7MB/s eta 0:00:01\r\u001b[K     |███████████████████████████████▊| 1.1MB 11.7MB/s eta 0:00:01\r\u001b[K     |████████████████████████████████| 1.1MB 11.7MB/s \n",
            "\u001b[?25hInstalling collected packages: sentencepiece\n",
            "Successfully installed sentencepiece-0.1.94\n"
          ],
          "name": "stdout"
        }
      ]
    },
    {
      "cell_type": "code",
      "metadata": {
        "id": "rQrv2ZOkA4rw"
      },
      "source": [
        "# load CSV files containing training data\n",
        "train = pd.read_csv(\"train-2.csv\")\n",
        "test = pd.read_csv(\"test-2.csv\")"
      ],
      "execution_count": null,
      "outputs": []
    },
    {
      "cell_type": "code",
      "metadata": {
        "id": "w6UFgTBCjTrG"
      },
      "source": [
        "# download BERT layer\n",
        "module_url = \"https://tfhub.dev/tensorflow/bert_en_uncased_L-24_H-1024_A-16/1\"\n",
        "bert_layer = hub.KerasLayer(module_url, trainable=True)"
      ],
      "execution_count": null,
      "outputs": []
    },
    {
      "cell_type": "code",
      "metadata": {
        "id": "FsNpCUGLBtOL"
      },
      "source": [
        "!wget --quiet https://raw.githubusercontent.com/tensorflow/models/master/official/nlp/bert/tokenization.py"
      ],
      "execution_count": null,
      "outputs": []
    },
    {
      "cell_type": "code",
      "metadata": {
        "id": "zenHYPqHA-xD"
      },
      "source": [
        "# load tokenizer from the bert layer\n",
        "vocab_file = bert_layer.resolved_object.vocab_file.asset_path.numpy()\n",
        "do_lower_case = bert_layer.resolved_object.do_lower_case.numpy()\n",
        "tokenizer = tokenization.FullTokenizer(vocab_file, do_lower_case)"
      ],
      "execution_count": null,
      "outputs": []
    },
    {
      "cell_type": "code",
      "metadata": {
        "id": "9TI_RHXICCXl"
      },
      "source": [
        "def bert_encode(texts, tokenizer, max_len=512):\n",
        "    all_tokens = []\n",
        "    all_masks = []\n",
        "    all_segments = []\n",
        "    \n",
        "    for text in texts:\n",
        "        text = tokenizer.tokenize(text)\n",
        "            \n",
        "        text = text[:max_len-2]\n",
        "        input_sequence = [\"[CLS]\"] + text + [\"[SEP]\"]\n",
        "        pad_len = max_len - len(input_sequence)\n",
        "        \n",
        "        tokens = tokenizer.convert_tokens_to_ids(input_sequence)\n",
        "        tokens += [0] * pad_len\n",
        "        pad_masks = [1] * len(input_sequence) + [0] * pad_len\n",
        "        segment_ids = [0] * max_len\n",
        "        \n",
        "        all_tokens.append(tokens)\n",
        "        all_masks.append(pad_masks)\n",
        "        all_segments.append(segment_ids)\n",
        "    \n",
        "    return np.array(all_tokens), np.array(all_masks), np.array(all_segments)"
      ],
      "execution_count": null,
      "outputs": []
    },
    {
      "cell_type": "code",
      "metadata": {
        "id": "hGDb11D2CD9D"
      },
      "source": [
        "def build_model(bert_layer, max_len=512):\n",
        "    input_word_ids = Input(shape=(max_len,), dtype=tf.int32, name=\"input_word_ids\")\n",
        "    input_mask = Input(shape=(max_len,), dtype=tf.int32, name=\"input_mask\")\n",
        "    segment_ids = Input(shape=(max_len,), dtype=tf.int32, name=\"segment_ids\")\n",
        "\n",
        "    _, sequence_output = bert_layer([input_word_ids, input_mask, segment_ids])\n",
        "    clf_output = sequence_output[:, 0, :]\n",
        "    out = Dense(1, activation=\"sigmoid\")(clf_output)\n",
        "    \n",
        "    model = Model(inputs=[input_word_ids, input_mask, segment_ids], outputs=out)\n",
        "    model.compile(Adam(lr=1e-5), loss=\"binary_crossentropy\", metrics=[\"accuracy\"])\n",
        "    \n",
        "    return model"
      ],
      "execution_count": null,
      "outputs": []
    },
    {
      "cell_type": "code",
      "metadata": {
        "id": "lwXgV-4Y_tqk"
      },
      "source": [
        "# encode the text into tokens, masks, and segment flags\n",
        "train_input = bert_encode(train.text.values, tokenizer, max_len=160)\n",
        "test_input = bert_encode(test.text.values, tokenizer, max_len=160)\n",
        "train_labels = train.target.values"
      ],
      "execution_count": null,
      "outputs": []
    },
    {
      "cell_type": "code",
      "metadata": {
        "id": "JjGUsX6XAb9t",
        "colab": {
          "base_uri": "https://localhost:8080/"
        },
        "outputId": "a5d29cdc-eef7-4c16-8fb9-246a03ec9b41"
      },
      "source": [
        "# build BERT model with my tuning\n",
        "model_BERT = build_model(bert_layer, max_len=160)\n",
        "model_BERT.summary()"
      ],
      "execution_count": null,
      "outputs": [
        {
          "output_type": "stream",
          "text": [
            "Model: \"functional_1\"\n",
            "__________________________________________________________________________________________________\n",
            "Layer (type)                    Output Shape         Param #     Connected to                     \n",
            "==================================================================================================\n",
            "input_word_ids (InputLayer)     [(None, 160)]        0                                            \n",
            "__________________________________________________________________________________________________\n",
            "input_mask (InputLayer)         [(None, 160)]        0                                            \n",
            "__________________________________________________________________________________________________\n",
            "segment_ids (InputLayer)        [(None, 160)]        0                                            \n",
            "__________________________________________________________________________________________________\n",
            "keras_layer (KerasLayer)        [(None, 1024), (None 335141889   input_word_ids[0][0]             \n",
            "                                                                 input_mask[0][0]                 \n",
            "                                                                 segment_ids[0][0]                \n",
            "__________________________________________________________________________________________________\n",
            "tf_op_layer_strided_slice (Tens [(None, 1024)]       0           keras_layer[0][1]                \n",
            "__________________________________________________________________________________________________\n",
            "dense (Dense)                   (None, 1)            1025        tf_op_layer_strided_slice[0][0]  \n",
            "==================================================================================================\n",
            "Total params: 335,142,914\n",
            "Trainable params: 335,142,913\n",
            "Non-trainable params: 1\n",
            "__________________________________________________________________________________________________\n"
          ],
          "name": "stdout"
        }
      ]
    },
    {
      "cell_type": "code",
      "metadata": {
        "id": "YNzDVDSyAvdi",
        "colab": {
          "base_uri": "https://localhost:8080/"
        },
        "outputId": "d0896398-8c6d-4702-afa0-3bd301272808"
      },
      "source": [
        "# train BERT model with my tuning\n",
        "checkpoint = ModelCheckpoint(\"model_BERT.h5\", monitor=\"val_loss\", save_best_only=True)\n",
        "\n",
        "train_history = model_BERT.fit(\n",
        "    train_input, train_labels,\n",
        "    validation_split = 0.2,\n",
        "    epochs = 3, # recomended 3-5 epochs\n",
        "    callbacks=[checkpoint],\n",
        "    batch_size = 16\n",
        ")"
      ],
      "execution_count": null,
      "outputs": [
        {
          "output_type": "stream",
          "text": [
            "Epoch 1/3\n",
            "381/381 [==============================] - 730s 2s/step - loss: 0.4272 - accuracy: 0.8182 - val_loss: 0.3926 - val_accuracy: 0.8424\n",
            "Epoch 2/3\n",
            "381/381 [==============================] - 651s 2s/step - loss: 0.2740 - accuracy: 0.8923 - val_loss: 0.3975 - val_accuracy: 0.8352\n",
            "Epoch 3/3\n",
            "381/381 [==============================] - 650s 2s/step - loss: 0.1467 - accuracy: 0.9450 - val_loss: 0.4635 - val_accuracy: 0.8313\n"
          ],
          "name": "stdout"
        }
      ]
    },
    {
      "cell_type": "code",
      "metadata": {
        "id": "bVp7AJg8Cay7"
      },
      "source": [
        "# prediction by BERT model with my tuning\n",
        "model_BERT.load_weights(\"model_BERT.h5\")\n",
        "test_pred_BERT = model_BERT.predict(test_input)\n",
        "test_pred_BERT_int = test_pred_BERT.round().astype(\"int\")"
      ],
      "execution_count": null,
      "outputs": []
    },
    {
      "cell_type": "code",
      "metadata": {
        "id": "yGmMmThrLbqm"
      },
      "source": [
        "# prediction by BERT model with my tuning for the training data - for the Confusion Matrix\n",
        "train_pred_BERT = model_BERT.predict(train_input)\n",
        "train_pred_BERT_int = train_pred_BERT.round().astype(\"int\")"
      ],
      "execution_count": null,
      "outputs": []
    },
    {
      "cell_type": "code",
      "metadata": {
        "id": "8NwXmseDLfbZ"
      },
      "source": [
        "# show Confusion Matrix\n",
        "def plot_cm(y_true, y_pred, title, figsize=(5,5)):\n",
        "    cm = confusion_matrix(y_true, y_pred, labels=np.unique(y_true))\n",
        "    cm_sum = np.sum(cm, axis=1, keepdims=True)\n",
        "    cm_perc = cm / cm_sum.astype(float) * 100\n",
        "    annot = np.empty_like(cm).astype(str)\n",
        "    nrows, ncols = cm.shape\n",
        "    for i in range(nrows):\n",
        "        for j in range(ncols):\n",
        "            c = cm[i, j]\n",
        "            p = cm_perc[i, j]\n",
        "            if i == j:\n",
        "                s = cm_sum[i]\n",
        "                annot[i, j] = \"%.1f%%\\n%d/%d\" % (p, c, s)\n",
        "            elif c == 0:\n",
        "                annot[i, j] = \"\"\n",
        "            else:\n",
        "                annot[i, j] = \"%.1f%%\\n%d\" % (p, c)\n",
        "    cm = pd.DataFrame(cm, index=np.unique(y_true), columns=np.unique(y_true))\n",
        "    cm.index.name = \"Actual\"\n",
        "    cm.columns.name = \"Predicted\"\n",
        "    fig, ax = plt.subplots(figsize=figsize)\n",
        "    plt.title(title)\n",
        "    sns.heatmap(cm, cmap= \"YlGnBu\", annot=annot, fmt=\"\", ax=ax)"
      ],
      "execution_count": null,
      "outputs": []
    },
    {
      "cell_type": "code",
      "metadata": {
        "id": "gkKthFNHLjLM",
        "colab": {
          "base_uri": "https://localhost:8080/",
          "height": 509
        },
        "outputId": "3f4d3ae0-b765-496f-b418-555744fd1aa0"
      },
      "source": [
        "# show Confusion Matrix for BERT model\n",
        "from sklearn.metrics import classification_report,confusion_matrix\n",
        "plot_cm(train_pred_BERT_int, train[\"target\"].values, \"Confusion matrix for BERT model\", figsize=(7,7))"
      ],
      "execution_count": null,
      "outputs": [
        {
          "output_type": "display_data",
          "data": {
            "image/png": "[encoded data removed]",
            "text/plain": [
              "<Figure size 560x560 with 2 Axes>"
            ]
          },
          "metadata": {
            "tags": []
          }
        }
      ]
    }
  ]
}